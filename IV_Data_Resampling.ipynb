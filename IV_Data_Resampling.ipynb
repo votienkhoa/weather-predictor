{
  "cells": [
    {
      "cell_type": "markdown",
      "metadata": {
        "id": "Jn9VPngi_Aun"
      },
      "source": [
        "# 1. Preparation"
      ]
    },
    {
      "cell_type": "markdown",
      "metadata": {
        "id": "8tAx470u_uX5"
      },
      "source": [
        "* Import libraries"
      ]
    },
    {
      "cell_type": "code",
      "execution_count": 18,
      "metadata": {
        "id": "3-FPG2mB8_t1"
      },
      "outputs": [],
      "source": [
        "import pandas as pd\n",
        "import numpy as np\n",
        "from sklearn.ensemble import RandomForestClassifier\n",
        "from sklearn.model_selection import StratifiedKFold, GridSearchCV\n",
        "from sklearn.model_selection import cross_val_score\n",
        "from sklearn.preprocessing import label_binarize\n",
        "from imblearn.over_sampling import RandomOverSampler, SMOTE\n",
        "from imblearn.under_sampling import RandomUnderSampler, TomekLinks\n",
        "from imblearn.combine import SMOTETomek\n",
        "from imblearn.pipeline import Pipeline, make_pipeline\n",
        "import matplotlib.pyplot as plt\n",
        "import joblib"
      ]
    },
    {
      "cell_type": "markdown",
      "metadata": {
        "id": "uxWs3fhd_zY9"
      },
      "source": [
        "* Prepare Data"
      ]
    },
    {
      "cell_type": "code",
      "execution_count": 19,
      "metadata": {
        "colab": {
          "base_uri": "https://localhost:8080/",
          "height": 226
        },
        "id": "mVaAAp5IACkr",
        "outputId": "9299a3b4-ad1f-4a90-bbae-bebca795c8e1"
      },
      "outputs": [
        {
          "data": {
            "text/html": [
              "<div>\n",
              "<style scoped>\n",
              "    .dataframe tbody tr th:only-of-type {\n",
              "        vertical-align: middle;\n",
              "    }\n",
              "\n",
              "    .dataframe tbody tr th {\n",
              "        vertical-align: top;\n",
              "    }\n",
              "\n",
              "    .dataframe thead th {\n",
              "        text-align: right;\n",
              "    }\n",
              "</style>\n",
              "<table border=\"1\" class=\"dataframe\">\n",
              "  <thead>\n",
              "    <tr style=\"text-align: right;\">\n",
              "      <th></th>\n",
              "      <th>temp_c</th>\n",
              "      <th>condition</th>\n",
              "      <th>wind_kph</th>\n",
              "      <th>pressure_in</th>\n",
              "      <th>precip_mm</th>\n",
              "      <th>snow_cm</th>\n",
              "      <th>humidity</th>\n",
              "      <th>cloud</th>\n",
              "      <th>vis_km</th>\n",
              "      <th>uv</th>\n",
              "      <th>hour_sin</th>\n",
              "      <th>hour_cos</th>\n",
              "      <th>month_sin</th>\n",
              "      <th>month_cos</th>\n",
              "      <th>wind_degree_sin</th>\n",
              "      <th>wind_degree_cos</th>\n",
              "      <th>dewpoint_depression</th>\n",
              "    </tr>\n",
              "  </thead>\n",
              "  <tbody>\n",
              "    <tr>\n",
              "      <th>0</th>\n",
              "      <td>0.901420</td>\n",
              "      <td>7</td>\n",
              "      <td>-0.544269</td>\n",
              "      <td>-1.702582</td>\n",
              "      <td>-0.205408</td>\n",
              "      <td>-0.032943</td>\n",
              "      <td>0.653087</td>\n",
              "      <td>0.116381</td>\n",
              "      <td>0.23672</td>\n",
              "      <td>-0.906157</td>\n",
              "      <td>0.366506</td>\n",
              "      <td>1.364709</td>\n",
              "      <td>-0.701803</td>\n",
              "      <td>-1.213762</td>\n",
              "      <td>-1.414583</td>\n",
              "      <td>-0.029929</td>\n",
              "      <td>-0.182125</td>\n",
              "    </tr>\n",
              "    <tr>\n",
              "      <th>1</th>\n",
              "      <td>0.495247</td>\n",
              "      <td>9</td>\n",
              "      <td>1.392931</td>\n",
              "      <td>0.033613</td>\n",
              "      <td>-0.205408</td>\n",
              "      <td>-0.032943</td>\n",
              "      <td>-0.360737</td>\n",
              "      <td>-0.993660</td>\n",
              "      <td>0.23672</td>\n",
              "      <td>1.310283</td>\n",
              "      <td>1.000829</td>\n",
              "      <td>-1.000022</td>\n",
              "      <td>-1.220815</td>\n",
              "      <td>-0.697459</td>\n",
              "      <td>0.534746</td>\n",
              "      <td>1.216967</td>\n",
              "      <td>0.186417</td>\n",
              "    </tr>\n",
              "    <tr>\n",
              "      <th>2</th>\n",
              "      <td>0.698334</td>\n",
              "      <td>1</td>\n",
              "      <td>0.431839</td>\n",
              "      <td>-0.559234</td>\n",
              "      <td>-0.205408</td>\n",
              "      <td>-0.032943</td>\n",
              "      <td>0.399631</td>\n",
              "      <td>1.036902</td>\n",
              "      <td>0.23672</td>\n",
              "      <td>-0.906157</td>\n",
              "      <td>-1.225136</td>\n",
              "      <td>0.706151</td>\n",
              "      <td>-1.410787</td>\n",
              "      <td>0.007825</td>\n",
              "      <td>-1.103593</td>\n",
              "      <td>-0.920732</td>\n",
              "      <td>-0.115367</td>\n",
              "    </tr>\n",
              "    <tr>\n",
              "      <th>3</th>\n",
              "      <td>-1.632327</td>\n",
              "      <td>1</td>\n",
              "      <td>-1.355190</td>\n",
              "      <td>0.584113</td>\n",
              "      <td>-0.205408</td>\n",
              "      <td>-0.032943</td>\n",
              "      <td>-0.614193</td>\n",
              "      <td>0.576641</td>\n",
              "      <td>0.23672</td>\n",
              "      <td>-0.589523</td>\n",
              "      <td>-1.225136</td>\n",
              "      <td>-0.707289</td>\n",
              "      <td>0.716166</td>\n",
              "      <td>1.229412</td>\n",
              "      <td>1.303438</td>\n",
              "      <td>-0.803327</td>\n",
              "      <td>-0.174110</td>\n",
              "    </tr>\n",
              "    <tr>\n",
              "      <th>4</th>\n",
              "      <td>0.263148</td>\n",
              "      <td>7</td>\n",
              "      <td>-0.334031</td>\n",
              "      <td>-0.178118</td>\n",
              "      <td>-0.205408</td>\n",
              "      <td>-0.032943</td>\n",
              "      <td>0.805161</td>\n",
              "      <td>0.224677</td>\n",
              "      <td>0.23672</td>\n",
              "      <td>0.993649</td>\n",
              "      <td>1.415269</td>\n",
              "      <td>-0.000569</td>\n",
              "      <td>-1.410787</td>\n",
              "      <td>0.007825</td>\n",
              "      <td>1.199124</td>\n",
              "      <td>0.784002</td>\n",
              "      <td>-0.306822</td>\n",
              "    </tr>\n",
              "  </tbody>\n",
              "</table>\n",
              "</div>"
            ],
            "text/plain": [
              "     temp_c  condition  wind_kph  pressure_in  precip_mm   snow_cm  humidity  \\\n",
              "0  0.901420          7 -0.544269    -1.702582  -0.205408 -0.032943  0.653087   \n",
              "1  0.495247          9  1.392931     0.033613  -0.205408 -0.032943 -0.360737   \n",
              "2  0.698334          1  0.431839    -0.559234  -0.205408 -0.032943  0.399631   \n",
              "3 -1.632327          1 -1.355190     0.584113  -0.205408 -0.032943 -0.614193   \n",
              "4  0.263148          7 -0.334031    -0.178118  -0.205408 -0.032943  0.805161   \n",
              "\n",
              "      cloud   vis_km        uv  hour_sin  hour_cos  month_sin  month_cos  \\\n",
              "0  0.116381  0.23672 -0.906157  0.366506  1.364709  -0.701803  -1.213762   \n",
              "1 -0.993660  0.23672  1.310283  1.000829 -1.000022  -1.220815  -0.697459   \n",
              "2  1.036902  0.23672 -0.906157 -1.225136  0.706151  -1.410787   0.007825   \n",
              "3  0.576641  0.23672 -0.589523 -1.225136 -0.707289   0.716166   1.229412   \n",
              "4  0.224677  0.23672  0.993649  1.415269 -0.000569  -1.410787   0.007825   \n",
              "\n",
              "   wind_degree_sin  wind_degree_cos  dewpoint_depression  \n",
              "0        -1.414583        -0.029929            -0.182125  \n",
              "1         0.534746         1.216967             0.186417  \n",
              "2        -1.103593        -0.920732            -0.115367  \n",
              "3         1.303438        -0.803327            -0.174110  \n",
              "4         1.199124         0.784002            -0.306822  "
            ]
          },
          "execution_count": 19,
          "metadata": {},
          "output_type": "execute_result"
        }
      ],
      "source": [
        "train_df = pd.read_csv(\"./processed-data/processed_data_train.csv\")\n",
        "test_df = pd.read_csv(\"./processed-data/processed_data_test.csv\")\n",
        "\n",
        "train_df.head()"
      ]
    },
    {
      "cell_type": "code",
      "execution_count": 20,
      "metadata": {
        "id": "rNhaxfaS_7QI"
      },
      "outputs": [],
      "source": [
        "X_train = train_df.drop(columns=['condition'])\n",
        "y_train = train_df['condition']\n",
        "X_test = test_df.drop(columns=['condition'])\n",
        "y_test = test_df['condition']"
      ]
    },
    {
      "cell_type": "code",
      "execution_count": 43,
      "metadata": {},
      "outputs": [
        {
          "data": {
            "text/plain": [
              "condition\n",
              "0     16399\n",
              "9     15949\n",
              "1     14476\n",
              "7     10633\n",
              "2      7226\n",
              "6      4986\n",
              "4       282\n",
              "5       126\n",
              "8       105\n",
              "10       35\n",
              "3        35\n",
              "Name: count, dtype: int64"
            ]
          },
          "execution_count": 43,
          "metadata": {},
          "output_type": "execute_result"
        }
      ],
      "source": [
        "y_train.value_counts()"
      ]
    },
    {
      "cell_type": "code",
      "execution_count": 21,
      "metadata": {
        "id": "z28itx28Bttp"
      },
      "outputs": [],
      "source": [
        "label_encoder = joblib.load(\"label_encoder.pkl\")"
      ]
    },
    {
      "cell_type": "markdown",
      "metadata": {
        "id": "rNnFmDn9BB9c"
      },
      "source": [
        "# 2. Baseline Model"
      ]
    },
    {
      "cell_type": "markdown",
      "metadata": {
        "id": "KdPTqQy8JNCq"
      },
      "source": [
        "## 2.1. Baseline Model & Cross Validation"
      ]
    },
    {
      "cell_type": "code",
      "execution_count": 22,
      "metadata": {
        "id": "4PJvDHy-JaxP"
      },
      "outputs": [],
      "source": [
        "kf = StratifiedKFold(n_splits=5, shuffle=False)\n",
        "rf = RandomForestClassifier(class_weight='balanced')"
      ]
    },
    {
      "cell_type": "markdown",
      "metadata": {
        "id": "xWyYxts1Ju3B"
      },
      "source": [
        "## 2.2. Hyperparameter Tuning Using GridSearchCV"
      ]
    },
    {
      "cell_type": "code",
      "execution_count": 23,
      "metadata": {
        "colab": {
          "base_uri": "https://localhost:8080/",
          "height": 182
        },
        "collapsed": true,
        "id": "uiZPmHpfJzeC",
        "outputId": "08086ba4-ffdb-46ac-b75f-6af553b076ba"
      },
      "outputs": [
        {
          "name": "stdout",
          "output_type": "stream",
          "text": [
            "Fitting 5 folds for each of 9 candidates, totalling 45 fits\n"
          ]
        },
        {
          "data": {
            "text/html": [
              "<style>#sk-container-id-1 {\n",
              "  /* Definition of color scheme common for light and dark mode */\n",
              "  --sklearn-color-text: #000;\n",
              "  --sklearn-color-text-muted: #666;\n",
              "  --sklearn-color-line: gray;\n",
              "  /* Definition of color scheme for unfitted estimators */\n",
              "  --sklearn-color-unfitted-level-0: #fff5e6;\n",
              "  --sklearn-color-unfitted-level-1: #f6e4d2;\n",
              "  --sklearn-color-unfitted-level-2: #ffe0b3;\n",
              "  --sklearn-color-unfitted-level-3: chocolate;\n",
              "  /* Definition of color scheme for fitted estimators */\n",
              "  --sklearn-color-fitted-level-0: #f0f8ff;\n",
              "  --sklearn-color-fitted-level-1: #d4ebff;\n",
              "  --sklearn-color-fitted-level-2: #b3dbfd;\n",
              "  --sklearn-color-fitted-level-3: cornflowerblue;\n",
              "\n",
              "  /* Specific color for light theme */\n",
              "  --sklearn-color-text-on-default-background: var(--sg-text-color, var(--theme-code-foreground, var(--jp-content-font-color1, black)));\n",
              "  --sklearn-color-background: var(--sg-background-color, var(--theme-background, var(--jp-layout-color0, white)));\n",
              "  --sklearn-color-border-box: var(--sg-text-color, var(--theme-code-foreground, var(--jp-content-font-color1, black)));\n",
              "  --sklearn-color-icon: #696969;\n",
              "\n",
              "  @media (prefers-color-scheme: dark) {\n",
              "    /* Redefinition of color scheme for dark theme */\n",
              "    --sklearn-color-text-on-default-background: var(--sg-text-color, var(--theme-code-foreground, var(--jp-content-font-color1, white)));\n",
              "    --sklearn-color-background: var(--sg-background-color, var(--theme-background, var(--jp-layout-color0, #111)));\n",
              "    --sklearn-color-border-box: var(--sg-text-color, var(--theme-code-foreground, var(--jp-content-font-color1, white)));\n",
              "    --sklearn-color-icon: #878787;\n",
              "  }\n",
              "}\n",
              "\n",
              "#sk-container-id-1 {\n",
              "  color: var(--sklearn-color-text);\n",
              "}\n",
              "\n",
              "#sk-container-id-1 pre {\n",
              "  padding: 0;\n",
              "}\n",
              "\n",
              "#sk-container-id-1 input.sk-hidden--visually {\n",
              "  border: 0;\n",
              "  clip: rect(1px 1px 1px 1px);\n",
              "  clip: rect(1px, 1px, 1px, 1px);\n",
              "  height: 1px;\n",
              "  margin: -1px;\n",
              "  overflow: hidden;\n",
              "  padding: 0;\n",
              "  position: absolute;\n",
              "  width: 1px;\n",
              "}\n",
              "\n",
              "#sk-container-id-1 div.sk-dashed-wrapped {\n",
              "  border: 1px dashed var(--sklearn-color-line);\n",
              "  margin: 0 0.4em 0.5em 0.4em;\n",
              "  box-sizing: border-box;\n",
              "  padding-bottom: 0.4em;\n",
              "  background-color: var(--sklearn-color-background);\n",
              "}\n",
              "\n",
              "#sk-container-id-1 div.sk-container {\n",
              "  /* jupyter's `normalize.less` sets `[hidden] { display: none; }`\n",
              "     but bootstrap.min.css set `[hidden] { display: none !important; }`\n",
              "     so we also need the `!important` here to be able to override the\n",
              "     default hidden behavior on the sphinx rendered scikit-learn.org.\n",
              "     See: https://github.com/scikit-learn/scikit-learn/issues/21755 */\n",
              "  display: inline-block !important;\n",
              "  position: relative;\n",
              "}\n",
              "\n",
              "#sk-container-id-1 div.sk-text-repr-fallback {\n",
              "  display: none;\n",
              "}\n",
              "\n",
              "div.sk-parallel-item,\n",
              "div.sk-serial,\n",
              "div.sk-item {\n",
              "  /* draw centered vertical line to link estimators */\n",
              "  background-image: linear-gradient(var(--sklearn-color-text-on-default-background), var(--sklearn-color-text-on-default-background));\n",
              "  background-size: 2px 100%;\n",
              "  background-repeat: no-repeat;\n",
              "  background-position: center center;\n",
              "}\n",
              "\n",
              "/* Parallel-specific style estimator block */\n",
              "\n",
              "#sk-container-id-1 div.sk-parallel-item::after {\n",
              "  content: \"\";\n",
              "  width: 100%;\n",
              "  border-bottom: 2px solid var(--sklearn-color-text-on-default-background);\n",
              "  flex-grow: 1;\n",
              "}\n",
              "\n",
              "#sk-container-id-1 div.sk-parallel {\n",
              "  display: flex;\n",
              "  align-items: stretch;\n",
              "  justify-content: center;\n",
              "  background-color: var(--sklearn-color-background);\n",
              "  position: relative;\n",
              "}\n",
              "\n",
              "#sk-container-id-1 div.sk-parallel-item {\n",
              "  display: flex;\n",
              "  flex-direction: column;\n",
              "}\n",
              "\n",
              "#sk-container-id-1 div.sk-parallel-item:first-child::after {\n",
              "  align-self: flex-end;\n",
              "  width: 50%;\n",
              "}\n",
              "\n",
              "#sk-container-id-1 div.sk-parallel-item:last-child::after {\n",
              "  align-self: flex-start;\n",
              "  width: 50%;\n",
              "}\n",
              "\n",
              "#sk-container-id-1 div.sk-parallel-item:only-child::after {\n",
              "  width: 0;\n",
              "}\n",
              "\n",
              "/* Serial-specific style estimator block */\n",
              "\n",
              "#sk-container-id-1 div.sk-serial {\n",
              "  display: flex;\n",
              "  flex-direction: column;\n",
              "  align-items: center;\n",
              "  background-color: var(--sklearn-color-background);\n",
              "  padding-right: 1em;\n",
              "  padding-left: 1em;\n",
              "}\n",
              "\n",
              "\n",
              "/* Toggleable style: style used for estimator/Pipeline/ColumnTransformer box that is\n",
              "clickable and can be expanded/collapsed.\n",
              "- Pipeline and ColumnTransformer use this feature and define the default style\n",
              "- Estimators will overwrite some part of the style using the `sk-estimator` class\n",
              "*/\n",
              "\n",
              "/* Pipeline and ColumnTransformer style (default) */\n",
              "\n",
              "#sk-container-id-1 div.sk-toggleable {\n",
              "  /* Default theme specific background. It is overwritten whether we have a\n",
              "  specific estimator or a Pipeline/ColumnTransformer */\n",
              "  background-color: var(--sklearn-color-background);\n",
              "}\n",
              "\n",
              "/* Toggleable label */\n",
              "#sk-container-id-1 label.sk-toggleable__label {\n",
              "  cursor: pointer;\n",
              "  display: flex;\n",
              "  width: 100%;\n",
              "  margin-bottom: 0;\n",
              "  padding: 0.5em;\n",
              "  box-sizing: border-box;\n",
              "  text-align: center;\n",
              "  align-items: start;\n",
              "  justify-content: space-between;\n",
              "  gap: 0.5em;\n",
              "}\n",
              "\n",
              "#sk-container-id-1 label.sk-toggleable__label .caption {\n",
              "  font-size: 0.6rem;\n",
              "  font-weight: lighter;\n",
              "  color: var(--sklearn-color-text-muted);\n",
              "}\n",
              "\n",
              "#sk-container-id-1 label.sk-toggleable__label-arrow:before {\n",
              "  /* Arrow on the left of the label */\n",
              "  content: \"▸\";\n",
              "  float: left;\n",
              "  margin-right: 0.25em;\n",
              "  color: var(--sklearn-color-icon);\n",
              "}\n",
              "\n",
              "#sk-container-id-1 label.sk-toggleable__label-arrow:hover:before {\n",
              "  color: var(--sklearn-color-text);\n",
              "}\n",
              "\n",
              "/* Toggleable content - dropdown */\n",
              "\n",
              "#sk-container-id-1 div.sk-toggleable__content {\n",
              "  max-height: 0;\n",
              "  max-width: 0;\n",
              "  overflow: hidden;\n",
              "  text-align: left;\n",
              "  /* unfitted */\n",
              "  background-color: var(--sklearn-color-unfitted-level-0);\n",
              "}\n",
              "\n",
              "#sk-container-id-1 div.sk-toggleable__content.fitted {\n",
              "  /* fitted */\n",
              "  background-color: var(--sklearn-color-fitted-level-0);\n",
              "}\n",
              "\n",
              "#sk-container-id-1 div.sk-toggleable__content pre {\n",
              "  margin: 0.2em;\n",
              "  border-radius: 0.25em;\n",
              "  color: var(--sklearn-color-text);\n",
              "  /* unfitted */\n",
              "  background-color: var(--sklearn-color-unfitted-level-0);\n",
              "}\n",
              "\n",
              "#sk-container-id-1 div.sk-toggleable__content.fitted pre {\n",
              "  /* unfitted */\n",
              "  background-color: var(--sklearn-color-fitted-level-0);\n",
              "}\n",
              "\n",
              "#sk-container-id-1 input.sk-toggleable__control:checked~div.sk-toggleable__content {\n",
              "  /* Expand drop-down */\n",
              "  max-height: 200px;\n",
              "  max-width: 100%;\n",
              "  overflow: auto;\n",
              "}\n",
              "\n",
              "#sk-container-id-1 input.sk-toggleable__control:checked~label.sk-toggleable__label-arrow:before {\n",
              "  content: \"▾\";\n",
              "}\n",
              "\n",
              "/* Pipeline/ColumnTransformer-specific style */\n",
              "\n",
              "#sk-container-id-1 div.sk-label input.sk-toggleable__control:checked~label.sk-toggleable__label {\n",
              "  color: var(--sklearn-color-text);\n",
              "  background-color: var(--sklearn-color-unfitted-level-2);\n",
              "}\n",
              "\n",
              "#sk-container-id-1 div.sk-label.fitted input.sk-toggleable__control:checked~label.sk-toggleable__label {\n",
              "  background-color: var(--sklearn-color-fitted-level-2);\n",
              "}\n",
              "\n",
              "/* Estimator-specific style */\n",
              "\n",
              "/* Colorize estimator box */\n",
              "#sk-container-id-1 div.sk-estimator input.sk-toggleable__control:checked~label.sk-toggleable__label {\n",
              "  /* unfitted */\n",
              "  background-color: var(--sklearn-color-unfitted-level-2);\n",
              "}\n",
              "\n",
              "#sk-container-id-1 div.sk-estimator.fitted input.sk-toggleable__control:checked~label.sk-toggleable__label {\n",
              "  /* fitted */\n",
              "  background-color: var(--sklearn-color-fitted-level-2);\n",
              "}\n",
              "\n",
              "#sk-container-id-1 div.sk-label label.sk-toggleable__label,\n",
              "#sk-container-id-1 div.sk-label label {\n",
              "  /* The background is the default theme color */\n",
              "  color: var(--sklearn-color-text-on-default-background);\n",
              "}\n",
              "\n",
              "/* On hover, darken the color of the background */\n",
              "#sk-container-id-1 div.sk-label:hover label.sk-toggleable__label {\n",
              "  color: var(--sklearn-color-text);\n",
              "  background-color: var(--sklearn-color-unfitted-level-2);\n",
              "}\n",
              "\n",
              "/* Label box, darken color on hover, fitted */\n",
              "#sk-container-id-1 div.sk-label.fitted:hover label.sk-toggleable__label.fitted {\n",
              "  color: var(--sklearn-color-text);\n",
              "  background-color: var(--sklearn-color-fitted-level-2);\n",
              "}\n",
              "\n",
              "/* Estimator label */\n",
              "\n",
              "#sk-container-id-1 div.sk-label label {\n",
              "  font-family: monospace;\n",
              "  font-weight: bold;\n",
              "  display: inline-block;\n",
              "  line-height: 1.2em;\n",
              "}\n",
              "\n",
              "#sk-container-id-1 div.sk-label-container {\n",
              "  text-align: center;\n",
              "}\n",
              "\n",
              "/* Estimator-specific */\n",
              "#sk-container-id-1 div.sk-estimator {\n",
              "  font-family: monospace;\n",
              "  border: 1px dotted var(--sklearn-color-border-box);\n",
              "  border-radius: 0.25em;\n",
              "  box-sizing: border-box;\n",
              "  margin-bottom: 0.5em;\n",
              "  /* unfitted */\n",
              "  background-color: var(--sklearn-color-unfitted-level-0);\n",
              "}\n",
              "\n",
              "#sk-container-id-1 div.sk-estimator.fitted {\n",
              "  /* fitted */\n",
              "  background-color: var(--sklearn-color-fitted-level-0);\n",
              "}\n",
              "\n",
              "/* on hover */\n",
              "#sk-container-id-1 div.sk-estimator:hover {\n",
              "  /* unfitted */\n",
              "  background-color: var(--sklearn-color-unfitted-level-2);\n",
              "}\n",
              "\n",
              "#sk-container-id-1 div.sk-estimator.fitted:hover {\n",
              "  /* fitted */\n",
              "  background-color: var(--sklearn-color-fitted-level-2);\n",
              "}\n",
              "\n",
              "/* Specification for estimator info (e.g. \"i\" and \"?\") */\n",
              "\n",
              "/* Common style for \"i\" and \"?\" */\n",
              "\n",
              ".sk-estimator-doc-link,\n",
              "a:link.sk-estimator-doc-link,\n",
              "a:visited.sk-estimator-doc-link {\n",
              "  float: right;\n",
              "  font-size: smaller;\n",
              "  line-height: 1em;\n",
              "  font-family: monospace;\n",
              "  background-color: var(--sklearn-color-background);\n",
              "  border-radius: 1em;\n",
              "  height: 1em;\n",
              "  width: 1em;\n",
              "  text-decoration: none !important;\n",
              "  margin-left: 0.5em;\n",
              "  text-align: center;\n",
              "  /* unfitted */\n",
              "  border: var(--sklearn-color-unfitted-level-1) 1pt solid;\n",
              "  color: var(--sklearn-color-unfitted-level-1);\n",
              "}\n",
              "\n",
              ".sk-estimator-doc-link.fitted,\n",
              "a:link.sk-estimator-doc-link.fitted,\n",
              "a:visited.sk-estimator-doc-link.fitted {\n",
              "  /* fitted */\n",
              "  border: var(--sklearn-color-fitted-level-1) 1pt solid;\n",
              "  color: var(--sklearn-color-fitted-level-1);\n",
              "}\n",
              "\n",
              "/* On hover */\n",
              "div.sk-estimator:hover .sk-estimator-doc-link:hover,\n",
              ".sk-estimator-doc-link:hover,\n",
              "div.sk-label-container:hover .sk-estimator-doc-link:hover,\n",
              ".sk-estimator-doc-link:hover {\n",
              "  /* unfitted */\n",
              "  background-color: var(--sklearn-color-unfitted-level-3);\n",
              "  color: var(--sklearn-color-background);\n",
              "  text-decoration: none;\n",
              "}\n",
              "\n",
              "div.sk-estimator.fitted:hover .sk-estimator-doc-link.fitted:hover,\n",
              ".sk-estimator-doc-link.fitted:hover,\n",
              "div.sk-label-container:hover .sk-estimator-doc-link.fitted:hover,\n",
              ".sk-estimator-doc-link.fitted:hover {\n",
              "  /* fitted */\n",
              "  background-color: var(--sklearn-color-fitted-level-3);\n",
              "  color: var(--sklearn-color-background);\n",
              "  text-decoration: none;\n",
              "}\n",
              "\n",
              "/* Span, style for the box shown on hovering the info icon */\n",
              ".sk-estimator-doc-link span {\n",
              "  display: none;\n",
              "  z-index: 9999;\n",
              "  position: relative;\n",
              "  font-weight: normal;\n",
              "  right: .2ex;\n",
              "  padding: .5ex;\n",
              "  margin: .5ex;\n",
              "  width: min-content;\n",
              "  min-width: 20ex;\n",
              "  max-width: 50ex;\n",
              "  color: var(--sklearn-color-text);\n",
              "  box-shadow: 2pt 2pt 4pt #999;\n",
              "  /* unfitted */\n",
              "  background: var(--sklearn-color-unfitted-level-0);\n",
              "  border: .5pt solid var(--sklearn-color-unfitted-level-3);\n",
              "}\n",
              "\n",
              ".sk-estimator-doc-link.fitted span {\n",
              "  /* fitted */\n",
              "  background: var(--sklearn-color-fitted-level-0);\n",
              "  border: var(--sklearn-color-fitted-level-3);\n",
              "}\n",
              "\n",
              ".sk-estimator-doc-link:hover span {\n",
              "  display: block;\n",
              "}\n",
              "\n",
              "/* \"?\"-specific style due to the `<a>` HTML tag */\n",
              "\n",
              "#sk-container-id-1 a.estimator_doc_link {\n",
              "  float: right;\n",
              "  font-size: 1rem;\n",
              "  line-height: 1em;\n",
              "  font-family: monospace;\n",
              "  background-color: var(--sklearn-color-background);\n",
              "  border-radius: 1rem;\n",
              "  height: 1rem;\n",
              "  width: 1rem;\n",
              "  text-decoration: none;\n",
              "  /* unfitted */\n",
              "  color: var(--sklearn-color-unfitted-level-1);\n",
              "  border: var(--sklearn-color-unfitted-level-1) 1pt solid;\n",
              "}\n",
              "\n",
              "#sk-container-id-1 a.estimator_doc_link.fitted {\n",
              "  /* fitted */\n",
              "  border: var(--sklearn-color-fitted-level-1) 1pt solid;\n",
              "  color: var(--sklearn-color-fitted-level-1);\n",
              "}\n",
              "\n",
              "/* On hover */\n",
              "#sk-container-id-1 a.estimator_doc_link:hover {\n",
              "  /* unfitted */\n",
              "  background-color: var(--sklearn-color-unfitted-level-3);\n",
              "  color: var(--sklearn-color-background);\n",
              "  text-decoration: none;\n",
              "}\n",
              "\n",
              "#sk-container-id-1 a.estimator_doc_link.fitted:hover {\n",
              "  /* fitted */\n",
              "  background-color: var(--sklearn-color-fitted-level-3);\n",
              "}\n",
              "</style><div id=\"sk-container-id-1\" class=\"sk-top-container\"><div class=\"sk-text-repr-fallback\"><pre>GridSearchCV(cv=StratifiedKFold(n_splits=5, random_state=None, shuffle=False),\n",
              "             estimator=RandomForestClassifier(class_weight=&#x27;balanced&#x27;),\n",
              "             n_jobs=-1,\n",
              "             param_grid={&#x27;max_depth&#x27;: [6, 10, 12],\n",
              "                         &#x27;n_estimators&#x27;: [50, 100, 200], &#x27;random_state&#x27;: [42]},\n",
              "             scoring=&#x27;f1_macro&#x27;, verbose=2)</pre><b>In a Jupyter environment, please rerun this cell to show the HTML representation or trust the notebook. <br />On GitHub, the HTML representation is unable to render, please try loading this page with nbviewer.org.</b></div><div class=\"sk-container\" hidden><div class=\"sk-item sk-dashed-wrapped\"><div class=\"sk-label-container\"><div class=\"sk-label fitted sk-toggleable\"><input class=\"sk-toggleable__control sk-hidden--visually\" id=\"sk-estimator-id-1\" type=\"checkbox\" ><label for=\"sk-estimator-id-1\" class=\"sk-toggleable__label fitted sk-toggleable__label-arrow\"><div><div>GridSearchCV</div></div><div><a class=\"sk-estimator-doc-link fitted\" rel=\"noreferrer\" target=\"_blank\" href=\"https://scikit-learn.org/1.6/modules/generated/sklearn.model_selection.GridSearchCV.html\">?<span>Documentation for GridSearchCV</span></a><span class=\"sk-estimator-doc-link fitted\">i<span>Fitted</span></span></div></label><div class=\"sk-toggleable__content fitted\"><pre>GridSearchCV(cv=StratifiedKFold(n_splits=5, random_state=None, shuffle=False),\n",
              "             estimator=RandomForestClassifier(class_weight=&#x27;balanced&#x27;),\n",
              "             n_jobs=-1,\n",
              "             param_grid={&#x27;max_depth&#x27;: [6, 10, 12],\n",
              "                         &#x27;n_estimators&#x27;: [50, 100, 200], &#x27;random_state&#x27;: [42]},\n",
              "             scoring=&#x27;f1_macro&#x27;, verbose=2)</pre></div> </div></div><div class=\"sk-parallel\"><div class=\"sk-parallel-item\"><div class=\"sk-item\"><div class=\"sk-label-container\"><div class=\"sk-label fitted sk-toggleable\"><input class=\"sk-toggleable__control sk-hidden--visually\" id=\"sk-estimator-id-2\" type=\"checkbox\" ><label for=\"sk-estimator-id-2\" class=\"sk-toggleable__label fitted sk-toggleable__label-arrow\"><div><div>best_estimator_: RandomForestClassifier</div></div></label><div class=\"sk-toggleable__content fitted\"><pre>RandomForestClassifier(class_weight=&#x27;balanced&#x27;, max_depth=12, n_estimators=200,\n",
              "                       random_state=42)</pre></div> </div></div><div class=\"sk-serial\"><div class=\"sk-item\"><div class=\"sk-estimator fitted sk-toggleable\"><input class=\"sk-toggleable__control sk-hidden--visually\" id=\"sk-estimator-id-3\" type=\"checkbox\" ><label for=\"sk-estimator-id-3\" class=\"sk-toggleable__label fitted sk-toggleable__label-arrow\"><div><div>RandomForestClassifier</div></div><div><a class=\"sk-estimator-doc-link fitted\" rel=\"noreferrer\" target=\"_blank\" href=\"https://scikit-learn.org/1.6/modules/generated/sklearn.ensemble.RandomForestClassifier.html\">?<span>Documentation for RandomForestClassifier</span></a></div></label><div class=\"sk-toggleable__content fitted\"><pre>RandomForestClassifier(class_weight=&#x27;balanced&#x27;, max_depth=12, n_estimators=200,\n",
              "                       random_state=42)</pre></div> </div></div></div></div></div></div></div></div></div>"
            ],
            "text/plain": [
              "GridSearchCV(cv=StratifiedKFold(n_splits=5, random_state=None, shuffle=False),\n",
              "             estimator=RandomForestClassifier(class_weight='balanced'),\n",
              "             n_jobs=-1,\n",
              "             param_grid={'max_depth': [6, 10, 12],\n",
              "                         'n_estimators': [50, 100, 200], 'random_state': [42]},\n",
              "             scoring='f1_macro', verbose=2)"
            ]
          },
          "execution_count": 23,
          "metadata": {},
          "output_type": "execute_result"
        }
      ],
      "source": [
        "params = {\n",
        "    'n_estimators': [50, 100, 200],\n",
        "    'max_depth': [6, 10, 12],\n",
        "    'random_state': [42]\n",
        "}\n",
        "\n",
        "grid_rf = GridSearchCV(rf, param_grid=params, cv=kf, scoring='f1_macro', n_jobs=-1, verbose=2)\n",
        "grid_rf.fit(X_train, y_train)"
      ]
    },
    {
      "cell_type": "code",
      "execution_count": 24,
      "metadata": {
        "colab": {
          "base_uri": "https://localhost:8080/"
        },
        "id": "grV8-5VbJ90R",
        "outputId": "e4e572dc-d4b9-4f67-9f2e-9bfcc370a88c"
      },
      "outputs": [
        {
          "name": "stdout",
          "output_type": "stream",
          "text": [
            "Best parameters: {'max_depth': 12, 'n_estimators': 200, 'random_state': 42}\n",
            "Best score: 0.8295711153934835\n"
          ]
        }
      ],
      "source": [
        "print('Best parameters:', grid_rf.best_params_)\n",
        "print('Best score:', grid_rf.best_score_)"
      ]
    },
    {
      "cell_type": "markdown",
      "metadata": {
        "id": "jHX3K6Vf2g-r"
      },
      "source": [
        "# 3. Random Resampling Imbalanced Datasets"
      ]
    },
    {
      "cell_type": "markdown",
      "metadata": {
        "id": "ZQhkbwIF23nd"
      },
      "source": [
        "* Random Oversampling: Randomly duplicate examples in the minority class.\n",
        "* Random Undersampling: Randomly delete examples in the majority class."
      ]
    },
    {
      "cell_type": "markdown",
      "metadata": {
        "id": "pb2OUY882we-"
      },
      "source": [
        "## 3.1. Random Oversampling"
      ]
    },
    {
      "cell_type": "code",
      "execution_count": 25,
      "metadata": {
        "id": "PtMExZ7G3Q_T"
      },
      "outputs": [],
      "source": [
        "ros = RandomOverSampler(random_state=42)"
      ]
    },
    {
      "cell_type": "code",
      "execution_count": 26,
      "metadata": {
        "id": "SPdsq8JL9wsX"
      },
      "outputs": [],
      "source": [
        "X_over, y_over = ros.fit_resample(X_train, y_train)"
      ]
    },
    {
      "cell_type": "code",
      "execution_count": 27,
      "metadata": {
        "colab": {
          "base_uri": "https://localhost:8080/",
          "height": 460
        },
        "id": "q-leLg7J9yy_",
        "outputId": "b5db1079-8ca1-4a68-86ec-f83d6ff4bedb"
      },
      "outputs": [
        {
          "data": {
            "text/plain": [
              "condition\n",
              "7     16399\n",
              "9     16399\n",
              "1     16399\n",
              "0     16399\n",
              "2     16399\n",
              "4     16399\n",
              "6     16399\n",
              "5     16399\n",
              "8     16399\n",
              "10    16399\n",
              "3     16399\n",
              "Name: count, dtype: int64"
            ]
          },
          "execution_count": 27,
          "metadata": {},
          "output_type": "execute_result"
        }
      ],
      "source": [
        "y_over.value_counts()"
      ]
    },
    {
      "cell_type": "code",
      "execution_count": 28,
      "metadata": {
        "id": "EHwyJsWGBvbw"
      },
      "outputs": [],
      "source": [
        "random_overs_pipeline = make_pipeline(RandomOverSampler(random_state=42),\n",
        "                                      RandomForestClassifier(n_estimators=200, max_depth=12, random_state=42))"
      ]
    },
    {
      "cell_type": "code",
      "execution_count": 29,
      "metadata": {
        "colab": {
          "base_uri": "https://localhost:8080/"
        },
        "id": "rPxQ38wJCIMW",
        "outputId": "feb9aff3-02e3-43cb-a8de-95e1b8c95c8e"
      },
      "outputs": [
        {
          "name": "stdout",
          "output_type": "stream",
          "text": [
            "Cross Validation Recall Scores are: [0.83614056 0.81871405 0.82069196 0.83138079 0.82515329]\n",
            "Average Cross Validation Recall score: 0.8264161294123438\n"
          ]
        }
      ],
      "source": [
        "score2 = cross_val_score(random_overs_pipeline, X_train, y_train, scoring='f1_macro', cv=kf)\n",
        "print(\"Cross Validation Recall Scores are: {}\".format(score2))\n",
        "print(\"Average Cross Validation Recall score: {}\".format(score2.mean()))"
      ]
    },
    {
      "cell_type": "markdown",
      "metadata": {
        "id": "x_JUfYOSDwlR"
      },
      "source": [
        "## 3.2. Random Undersampling"
      ]
    },
    {
      "cell_type": "code",
      "execution_count": 30,
      "metadata": {
        "id": "2WEdUyOCD12n"
      },
      "outputs": [],
      "source": [
        "rus = RandomUnderSampler(random_state=42)"
      ]
    },
    {
      "cell_type": "code",
      "execution_count": 31,
      "metadata": {
        "id": "xlsDba29D9hg"
      },
      "outputs": [],
      "source": [
        "X_under, y_under = rus.fit_resample(X_train, y_train)"
      ]
    },
    {
      "cell_type": "code",
      "execution_count": 32,
      "metadata": {
        "colab": {
          "base_uri": "https://localhost:8080/",
          "height": 460
        },
        "id": "S7SgLlT7D_Gv",
        "outputId": "e75429cb-269d-47a3-9033-7502348e9940"
      },
      "outputs": [
        {
          "data": {
            "text/plain": [
              "condition\n",
              "0     35\n",
              "1     35\n",
              "2     35\n",
              "3     35\n",
              "4     35\n",
              "5     35\n",
              "6     35\n",
              "7     35\n",
              "8     35\n",
              "9     35\n",
              "10    35\n",
              "Name: count, dtype: int64"
            ]
          },
          "execution_count": 32,
          "metadata": {},
          "output_type": "execute_result"
        }
      ],
      "source": [
        "y_under.value_counts()"
      ]
    },
    {
      "cell_type": "code",
      "execution_count": 33,
      "metadata": {},
      "outputs": [],
      "source": [
        "random_unders_pipeline = make_pipeline(RandomUnderSampler(random_state=42),\n",
        "                                      RandomForestClassifier(n_estimators=200, max_depth=12, random_state=42))"
      ]
    },
    {
      "cell_type": "code",
      "execution_count": 34,
      "metadata": {},
      "outputs": [
        {
          "name": "stdout",
          "output_type": "stream",
          "text": [
            "Cross Validation Recall Scores are: [0.63089817 0.66838693 0.63221671 0.68171412 0.67502144]\n",
            "Average Cross Validation Recall score: 0.6576474736553531\n"
          ]
        }
      ],
      "source": [
        "score3 = cross_val_score(random_unders_pipeline, X_train, y_train, scoring='f1_macro', cv=kf)\n",
        "print(\"Cross Validation Recall Scores are: {}\".format(score3))\n",
        "print(\"Average Cross Validation Recall score: {}\".format(score3.mean()))"
      ]
    },
    {
      "cell_type": "markdown",
      "metadata": {
        "id": "_s1wlkA1H-bZ"
      },
      "source": [
        "# 4. SMOTE (Synthetic Minority Oversampling Technique)"
      ]
    },
    {
      "cell_type": "markdown",
      "metadata": {
        "id": "dhu1E5pCdB5q"
      },
      "source": [
        "SMOTE (Synthetic Minority Oversampling Technique) synthesize elements for the minority class. SMOTE works by selecting examples that are close in the feature space, drawing a line between the examples in the feature space and drawing a new sample at a point along that line."
      ]
    },
    {
      "cell_type": "code",
      "execution_count": 35,
      "metadata": {
        "id": "K4yQgQDVIOJI"
      },
      "outputs": [],
      "source": [
        "smote_pipeline = make_pipeline(SMOTE(random_state=42),\n",
        "                              RandomForestClassifier(n_estimators=200, max_depth=12, random_state=42))"
      ]
    },
    {
      "cell_type": "code",
      "execution_count": 38,
      "metadata": {
        "colab": {
          "base_uri": "https://localhost:8080/"
        },
        "id": "kV5gvPiTIckC",
        "outputId": "387b5186-b233-4b24-9064-566e96fee225"
      },
      "outputs": [
        {
          "name": "stdout",
          "output_type": "stream",
          "text": [
            "Cross Validation Recall Scores are: [0.85687343 0.81902126 0.83610346 0.8422512  0.81948212]\n",
            "Average Cross Validation Recall score: 0.8347462944358126\n"
          ]
        }
      ],
      "source": [
        "score4 = cross_val_score(smote_pipeline, X_train, y_train, scoring='f1_macro', cv=kf)\n",
        "print(\"Cross Validation Recall Scores are: {}\".format(score4))\n",
        "print(\"Average Cross Validation Recall score: {}\".format(score4.mean()))"
      ]
    },
    {
      "cell_type": "markdown",
      "metadata": {
        "id": "A8aX4rBDJlTB"
      },
      "source": [
        "# 5. Combine SMOTE + Tomek Links"
      ]
    },
    {
      "cell_type": "markdown",
      "metadata": {
        "id": "bo5nRRQCbAhD"
      },
      "source": [
        "A combination of over-sampling the minority (abnormal) class and under-sampling the majority (normal) class can achieve better classifier performance than only under-sampling the majority class. This method was first introduced by Batista et al. (2003).\n",
        "\n",
        "The process of SMOTE-Tomek Links is as follows.\n",
        "\n",
        "1. Start of SMOTE: choose random data from the minority class.\n",
        "2. Calculate the distance between the random data and its k nearest neighbors.\n",
        "3. Multiply the difference with a random number between 0 and 1, then add the result to the minority class as a synthetic sample.\n",
        "4. Repeat step number 2–3 until the desired proportion of minority class is met (End of SMOTE).\n",
        "5. Start of Tomek Links: choose random data from the majority class.\n",
        "6. If the random data’s nearest neighbor is the data from the minority class (i.e. create the Tomek Link), then remove the Tomek Link."
      ]
    },
    {
      "cell_type": "code",
      "execution_count": 46,
      "metadata": {},
      "outputs": [
        {
          "data": {
            "text/plain": [
              "condition\n",
              "8     16399\n",
              "10    16399\n",
              "4     16399\n",
              "3     16399\n",
              "5     16399\n",
              "6     16386\n",
              "9     16231\n",
              "0     16184\n",
              "2     16103\n",
              "1     15943\n",
              "7     15829\n",
              "Name: count, dtype: int64"
            ]
          },
          "execution_count": 46,
          "metadata": {},
          "output_type": "execute_result"
        }
      ],
      "source": [
        "from imblearn.combine import SMOTETomek\n",
        "\n",
        "smote_tomek = SMOTETomek(\n",
        "    sampling_strategy='auto',\n",
        "    random_state=42\n",
        ")\n",
        "X_train_resampled, y_train_resampled = smote_tomek.fit_resample(X_train, y_train)\n",
        "y_train_resampled.value_counts()"
      ]
    },
    {
      "cell_type": "code",
      "execution_count": 48,
      "metadata": {
        "colab": {
          "base_uri": "https://localhost:8080/"
        },
        "id": "X2vyE0CSLOZc",
        "outputId": "9fbf6704-1152-4189-d0e4-d32c1b50557b"
      },
      "outputs": [
        {
          "name": "stdout",
          "output_type": "stream",
          "text": [
            "Cross Validation F1 Scores with SMOTE + TomekLinks: [0.84543735 0.81302492 0.83837874 0.84175996 0.84146548]\n",
            "Average F1 score with SMOTE + TomekLinks: 0.8360\n"
          ]
        }
      ],
      "source": [
        "\n",
        "SMOTETomek_pipeline = make_pipeline(\n",
        "    SMOTETomek(sampling_strategy='auto', random_state=42),\n",
        "    RandomForestClassifier(n_estimators=200, max_depth=12, random_state=42)\n",
        ")\n",
        "\n",
        "score5 = cross_val_score(\n",
        "    SMOTETomek_pipeline, X_train, y_train,\n",
        "    scoring='f1_macro', cv=kf\n",
        ")\n",
        "print(\"Cross Validation F1 Scores with SMOTE + TomekLinks: {}\".format(score5))\n",
        "print(\"Average F1 score with SMOTE + TomekLinks: {:.4f}\".format(score5.mean()))\n"
      ]
    }
  ],
  "metadata": {
    "colab": {
      "provenance": [],
      "toc_visible": true
    },
    "kernelspec": {
      "display_name": "Python 3",
      "name": "python3"
    },
    "language_info": {
      "codemirror_mode": {
        "name": "ipython",
        "version": 3
      },
      "file_extension": ".py",
      "mimetype": "text/x-python",
      "name": "python",
      "nbconvert_exporter": "python",
      "pygments_lexer": "ipython3",
      "version": "3.12.0"
    }
  },
  "nbformat": 4,
  "nbformat_minor": 0
}
